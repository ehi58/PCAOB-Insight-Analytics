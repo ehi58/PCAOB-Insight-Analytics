{
 "cells": [
  {
   "cell_type": "code",
   "execution_count": 1,
   "metadata": {},
   "outputs": [
    {
     "name": "stderr",
     "output_type": "stream",
     "text": [
      "/tmp/ipykernel_22829/2542556688.py:2: UserWarning: \n",
      "The dash_core_components package is deprecated. Please replace\n",
      "`import dash_core_components as dcc` with `from dash import dcc`\n",
      "  import dash_core_components as dcc\n",
      "/tmp/ipykernel_22829/2542556688.py:3: UserWarning: \n",
      "The dash_html_components package is deprecated. Please replace\n",
      "`import dash_html_components as html` with `from dash import html`\n",
      "  import dash_html_components as html\n"
     ]
    }
   ],
   "source": [
    "import dash\n",
    "import dash_core_components as dcc\n",
    "import dash_html_components as html\n",
    "import pandas as pd\n",
    "import plotly.express as px\n",
    "\n",
    "# Load your dataset\n",
    "df = pd.read_csv('final_transformed_data.csv')\n",
    "\n"
   ]
  },
  {
   "cell_type": "code",
   "execution_count": 3,
   "metadata": {},
   "outputs": [
    {
     "data": {
      "text/plain": [
       "array(['Deloitte & Touche S.A.S.', 'Ernst & Young', 'Ernst & Young S.A.',\n",
       "       'Deloitte & Touche LLP', 'Ernst & Young Audit S.A.S.', 'KPMG LLP',\n",
       "       'Price Waterhouse & Co. S.R.L.', 'KPMG',\n",
       "       'Gaveglio Aparicio y Asociados S. Civil de R.L.',\n",
       "       'Ernst & Young LLP', 'PricewaterhouseCoopers LLP',\n",
       "       'Emmerich, Cordova y Asociados S. Civil de R.L.', 'KPMG Inc',\n",
       "       'Ernst & Young AB', 'Ernst & Young AG',\n",
       "       'PricewaterhouseCoopers AS', 'KPMG Auditores Independentes Ltda.',\n",
       "       'KPMG SAS', 'Deloitte Accountants B.V.', 'Deloitte AG',\n",
       "       'Deloitte Audit', 'KPMG Samjong Accounting Corp.',\n",
       "       'Velasquez, Mazuelos y Asociados Sociedad Civil de Responsabilidad Limitada',\n",
       "       'Ernst & Young ShinNihon LLC', 'Deloitte Anjin LLC',\n",
       "       'Deloitte & Touche', 'PricewaterhouseCoopers, Taiwan',\n",
       "       'Ernst & Young Limited Corp.', 'Ernst & Young Accountants LLP',\n",
       "       'KPMG AZSA LLC', 'Deloitte AS', 'KPMG AS',\n",
       "       'PricewaterhouseCoopers Accountants N.V.',\n",
       "       'Samil PricewaterhouseCoopers', 'Deloitte LLP',\n",
       "       'Tanaka, Valdivia & Asociados Sociedad Civil de Responsabilidad Limitada',\n",
       "       'Deloitte Touche Tohmatsu Auditores Independentes Ltda.',\n",
       "       'Ernst & Young Han Young', 'Deloitte Touche Tohmatsu LLC',\n",
       "       'Pistrelli, Henry Martin y Asociados S.R.L.',\n",
       "       'SyCip Gorres Velayo & Co.',\n",
       "       'Ernst & Young Auditores Independentes S.S.',\n",
       "       'KPMG Accountants N.V.', 'PricewaterhouseCoopers',\n",
       "       'PricewaterhouseCoopers Auditores Independentes Ltda.',\n",
       "       'PricewaterhouseCoopers Incorporated', 'Deloitte & Touche Ltda.',\n",
       "       'Deloitte & Co. S. A.', 'Ernst & Young Ltd.',\n",
       "       'Ernst & Young, S.L.', 'Isla Lipana & Co.',\n",
       "       'KPMG Auditores Independentes', 'PricewaterhouseCoopers S.A.S',\n",
       "       'Deloitte, Inc.', 'Ernst & Young Incorporated', 'KPMG AG',\n",
       "       'PricewaterhouseCoopers Aarata LLC',\n",
       "       'PricewaterhouseCoopers, Société cooperative',\n",
       "       'Deloitte Accountants B.V', 'Ernst Young Audit S.A.S',\n",
       "       'Ernst Young Han Young', 'KPMG Auditores, S.L.',\n",
       "       'PricewaterhouseCoopers Auditores, S.L.',\n",
       "       'Price Waterhouse & Co S.R.L.',\n",
       "       'Velásquez, Mazuelos y Asociados Sociedad Civil de Responsabilidad Limitada',\n",
       "       'PricewaterhouseCoopers Auditores Independentes',\n",
       "       'Deloitte & Co. S.A.',\n",
       "       'Deloitte Touche Tohmatsu Auditores Independentes',\n",
       "       'Deloitte, S.L.', 'Navarro Amper & Co.',\n",
       "       'PricewaterhouseCoopers AG',\n",
       "       'Paredes, Burga & Asociados Sociedad Civil de Responsabilidad Limitada',\n",
       "       'PricewaterhouseCoopers AB', 'Ernst & Young AS',\n",
       "       'PricewaterhouseCoopers Ltda.',\n",
       "       'PricewaterhouseCoopers, Société coopérative',\n",
       "       'Ernst & Young Limited Corporation', 'KPMG Audit Plc',\n",
       "       'PricewaterhouseCoopers Kyoto',\n",
       "       'Paredes, Zaldívar, Burga & Asociados Sociedad Civil de Responsabilidad Limitada',\n",
       "       'KPMG AB', 'KPMG LLP (2012)', 'KPMG LLP (2013)',\n",
       "       'PricewaterhouseCoopers Aarata', 'KPMG Ltda.',\n",
       "       'Ernst & Young Terco Auditores Independentes S.S.',\n",
       "       'Medina, Zaldivar, Paredes & Asociados Sociedad Civil de Responsabilidad Limitada',\n",
       "       'Ernst & Young LLP (2006 Inspection)',\n",
       "       'Ernst & Young LLP (2011 Inspection)',\n",
       "       'Ernst & Young ShinNihon LLC (2008 Inspection)',\n",
       "       'Ernst & Young ShinNihon LLC (2011 Inspection)',\n",
       "       'PricewaterhouseCoopers LLP (2006)',\n",
       "       'PricewaterhouseCoopers LLP (2009)',\n",
       "       'PricewaterhouseCoopers LLP (2010)', 'KPMG Inc.',\n",
       "       'Dongo-Soria Gaveglio y Asociados, Sociedad Civil de Responsibilidad Limitada',\n",
       "       'Ernst & Young LLP (2009 Inspection)',\n",
       "       'Ernst & Young LLP (2010 Inspection)', 'Kyoto Audit Corporation',\n",
       "       'Ernst & Young Audit Ltda.', 'KPMG LLP (2009 Inspection)',\n",
       "       'KPMG LLP (2010 Inspection)', 'Deloitte & Touche Ltda',\n",
       "       'PricewaterhouseCoopers Taiwan', 'Deloitte & Co. S.R.L.',\n",
       "       'Medina, Zaldivar, Paredes & Asociados Sociedad Civil (2007 inspection)',\n",
       "       'Medina, Zaldivar, Paredes & Asociados Sociedad Civil de Responsabilidad Limitada (2009 inspection)',\n",
       "       'Sibille', 'Manabat Delgado Amper & Co.',\n",
       "       'Ernst & Young Auditores Independentes S/S', 'KPMG AZSA & Co.',\n",
       "       'KPMG Audit plc'], dtype=object)"
      ]
     },
     "execution_count": 3,
     "metadata": {},
     "output_type": "execute_result"
    }
   ],
   "source": [
    "df['Inspection Report Company'].unique()"
   ]
  },
  {
   "cell_type": "code",
   "execution_count": 4,
   "metadata": {},
   "outputs": [
    {
     "data": {
      "text/plain": [
       "array(['Deloitte Touche Tohmatsu Limited', 'Ernst & Young Global Limited',\n",
       "       'KPMG International Cooperative',\n",
       "       'PricewaterhouseCoopers International Limited'], dtype=object)"
      ]
     },
     "execution_count": 4,
     "metadata": {},
     "output_type": "execute_result"
    }
   ],
   "source": [
    "df['Company'].unique()"
   ]
  },
  {
   "cell_type": "code",
   "execution_count": 2,
   "metadata": {},
   "outputs": [],
   "source": [
    "# Create a pie chart for Total Issuer Audit Clients by Company\n",
    "fig_pie = px.pie(df, names='Company', values='Total Issuer Audit Clients',\n",
    "                 title='Distribution of Total Issuer Audit Clients by Company')\n",
    "\n"
   ]
  },
  {
   "cell_type": "code",
   "execution_count": 3,
   "metadata": {},
   "outputs": [],
   "source": [
    "# Create a bar chart for Total Issuer Audit Clients by Country and Company\n",
    "fig_bar = px.bar(df, x='Country', y='Total Issuer Audit Clients',\n",
    "                 color='Company', barmode='group',\n",
    "                 title='Total Issuer Audit Clients by Country and Company')\n",
    "\n"
   ]
  },
  {
   "cell_type": "code",
   "execution_count": 6,
   "metadata": {},
   "outputs": [],
   "source": [
    "df['Total Issuer Audit Clients'] = df['Total Issuer Audit Clients'].fillna(0)\n"
   ]
  },
  {
   "cell_type": "code",
   "execution_count": 7,
   "metadata": {},
   "outputs": [],
   "source": [
    "# Create a scatter plot for Total Issuer Audit Clients vs. Part I_A Deficiency Rate\n",
    "fig_scatter = px.scatter(df, x='Total Issuer Audit Clients', y='Part I.A Deficiency Rate',\n",
    "                         color='Company', size='Total Issuer Audit Clients',\n",
    "                         title='Total Issuer Audit Clients vs. Part I_A Deficiency Rate')\n",
    "\n"
   ]
  },
  {
   "cell_type": "code",
   "execution_count": 9,
   "metadata": {},
   "outputs": [],
   "source": [
    "#Bar Chart for 'Inspection Year' and 'Total Issuer Audit Clients'\n",
    "fig_bar_year = px.bar(df, x='Inspection Year', y='Total Issuer Audit Clients', \n",
    "                      color='Company', title='Total Issuer Audit Clients by Inspection Year and Company')"
   ]
  },
  {
   "cell_type": "code",
   "execution_count": 10,
   "metadata": {},
   "outputs": [],
   "source": [
    "#Box Plot for 'Company' and 'sentiment_avg'\n",
    "fig_box_sentiment = px.box(df, x='Company', y='sentiment_avg', \n",
    "                           color='Company', title='Sentiment Average Distribution by Company')"
   ]
  },
  {
   "cell_type": "code",
   "execution_count": 11,
   "metadata": {},
   "outputs": [],
   "source": [
    "#Histogram for 'word count'\n",
    "fig_hist_word_count = px.histogram(df, x='word_count', \n",
    "                                   color='Company', title='Distribution of Word Count by Company')"
   ]
  },
  {
   "cell_type": "code",
   "execution_count": 12,
   "metadata": {},
   "outputs": [
    {
     "data": {
      "text/html": [
       "\n",
       "        <iframe\n",
       "            width=\"100%\"\n",
       "            height=\"650\"\n",
       "            src=\"http://127.0.0.1:8050/\"\n",
       "            frameborder=\"0\"\n",
       "            allowfullscreen\n",
       "            \n",
       "        ></iframe>\n",
       "        "
      ],
      "text/plain": [
       "<IPython.lib.display.IFrame at 0x7ad1001127a0>"
      ]
     },
     "metadata": {},
     "output_type": "display_data"
    }
   ],
   "source": [
    "# Start Dash app\n",
    "app = dash.Dash(__name__)\n",
    "\n",
    "app.layout = html.Div(children=[\n",
    "    html.H1(children='PCAOB Inspection Data Dashboard'),\n",
    "\n",
    "    html.Div(children='''A web dashboard for visualizing PCAOB Inspection data.'''),\n",
    "\n",
    "    dcc.Graph(\n",
    "        id='pie-chart',\n",
    "        figure=fig_pie\n",
    "    ),\n",
    "\n",
    "    dcc.Graph(\n",
    "        id='bar-chart',\n",
    "        figure=fig_bar\n",
    "    ),\n",
    "    \n",
    "    dcc.Graph(\n",
    "        id='scatter-plot',\n",
    "        figure=fig_scatter\n",
    "    ),\n",
    "    dcc.Graph(\n",
    "        id='year-bar-chart',\n",
    "        figure=fig_bar_year\n",
    "    ),\n",
    "    dcc.Graph(\n",
    "        id='sentiment-box-plot',\n",
    "        figure=fig_box_sentiment\n",
    "    ),\n",
    "    dcc.Graph(\n",
    "        id='word-count-histogram',\n",
    "        figure=fig_hist_word_count\n",
    "    )\n",
    "])\n",
    "\n",
    "if __name__ == '__main__':\n",
    "    app.run_server(debug=True)\n"
   ]
  },
  {
   "cell_type": "code",
   "execution_count": null,
   "metadata": {},
   "outputs": [],
   "source": []
  }
 ],
 "metadata": {
  "kernelspec": {
   "display_name": "Python 3",
   "language": "python",
   "name": "python3"
  },
  "language_info": {
   "codemirror_mode": {
    "name": "ipython",
    "version": 3
   },
   "file_extension": ".py",
   "mimetype": "text/x-python",
   "name": "python",
   "nbconvert_exporter": "python",
   "pygments_lexer": "ipython3",
   "version": "3.10.12"
  }
 },
 "nbformat": 4,
 "nbformat_minor": 2
}
